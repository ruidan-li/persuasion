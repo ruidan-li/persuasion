{
 "cells": [
  {
   "cell_type": "code",
   "execution_count": 1,
   "id": "fc1c45a2",
   "metadata": {},
   "outputs": [],
   "source": [
    "# load the data\n",
    "import tarfile\n",
    "import os.path\n",
    "import json\n",
    "import re\n",
    "from bz2 import BZ2File\n",
    "from urllib import request\n",
    "from io import BytesIO\n",
    "\n",
    "import numpy as np\n",
    "\n",
    "\n",
    "fname = \"cmv.tar.bz2\"\n",
    "# url = \"https://chenhaot.com/data/cmv/\" + fname\n",
    "\n",
    "# download if not exists\n",
    "# if not os.path.isfile(fname):\n",
    "#     f = BytesIO()\n",
    "#     with request.urlopen(url) as resp, open(fname, 'wb') as f_disk:\n",
    "#         data = resp.read()\n",
    "#         f_disk.write(data)  # save to disk too\n",
    "#         f.write(data)\n",
    "#         f.seek(0)\n",
    "# else:\n",
    "f = open(fname, 'rb')\n",
    "\n",
    "\n",
    "tar = tarfile.open(fileobj=f, mode=\"r\")\n",
    "\n",
    "# Extract the file we are interested in\n",
    "\n",
    "train_fname = \"op_task/train_op_data.jsonlist.bz2\"\n",
    "test_fname = \"op_task/heldout_op_data.jsonlist.bz2\"\n",
    "\n",
    "all_train_fname = \"all/train_period_data.jsonlist.bz2\"\n",
    "all_test_fname = \"all/heldout_period_data.jsonlist.bz2\"\n",
    "\n",
    "pair_train_fname = \"pair_task/train_pair_data.jsonlist.bz2\"\n",
    "pair_test_fname = \"pair_task/train_pair_data.jsonlist.bz2\"\n",
    "\n",
    "train_bzlist = tar.extractfile(train_fname)\n",
    "all_train_bzlist = tar.extractfile(all_train_fname)\n",
    "pair_train_bzlist = tar.extractfile(pair_train_fname)\n",
    "\n",
    "# Deserialize the JSON list\n",
    "original_posts_train = [\n",
    "    json.loads(line.decode('utf-8'))\n",
    "    for line in BZ2File(train_bzlist)\n",
    "]\n",
    "all_train = [\n",
    "    json.loads(line.decode('utf-8'))\n",
    "    for line in BZ2File(all_train_bzlist)\n",
    "]\n",
    "pair_train = [\n",
    "    json.loads(line.decode('utf-8'))\n",
    "    for line in BZ2File(pair_train_bzlist)\n",
    "]\n",
    "test_bzlist = tar.extractfile(test_fname)\n",
    "all_test_bzlist = tar.extractfile(all_test_fname)\n",
    "pair_test_bzlist = tar.extractfile(pair_test_fname)\n",
    "\n",
    "original_posts_test = [\n",
    "    json.loads(line.decode('utf-8'))\n",
    "    for line in BZ2File(test_bzlist)\n",
    "]\n",
    "all_test = [\n",
    "    json.loads(line.decode('utf-8'))\n",
    "    for line in BZ2File(all_test_bzlist)\n",
    "]\n",
    "pair_test = [\n",
    "    json.loads(line.decode('utf-8'))\n",
    "    for line in BZ2File(pair_test_bzlist)\n",
    "]\n",
    "f.close()"
   ]
  },
  {
   "cell_type": "code",
   "execution_count": 16,
   "id": "68676fde",
   "metadata": {},
   "outputs": [
    {
     "data": {
      "text/plain": [
       "{'op_author': 'seanyowens',\n",
       " 'op_text': 'I can\\'t remember the topic that spurred this discussion, but a friend and I were debating whether man-made things were natural. He took the position that they are unnatural. \\n\\nHe cited this definition by Merriam-Webster:  existing in nature and not made or caused by people : coming from nature (http://www.merriam-webster.com/dictionary/natural) as his basis for the distinction for natural vs. unnatural.\\n\\nHowever, I respectfully disagree with his position and furthermore that definition of natural. People arise from nature. Humankind\\'s capacity to create, problem-solve, analyze, rationalize, and build also come from natural processes. How are the things we create unnatural? It is only through natural occurrences that we have this ability, why is it that we would give the credit of these things solely to man, as opposed to nature? We are not separate from nature, thus, how can any of our actions or creations be unnatural? If we were somehow separate from nature, I would understand the distinction between natural and man-made. However, I think unnatural and man-made are not synonyms by any means. It seems to me that man-made things MUST be natural due to our being part of nature. \\n\\nI would love to hear your arguments and to have my view changed if I am mistaken in my logic somewhere along the line.\\n\\nEDIT: Thanks for your responses lads. As many of you pointed out, our argument depends more on the context of the use of the word and I think that my friend and I were arguing about the semantics and definition more than our intended meaning behind use of the word \"natural\".',\n",
       " 'op_title': 'CMV: Anything that is man-made is natural.',\n",
       " 'positive': {'ancestor': 't1_cnhplrm',\n",
       "  'author': 'Account9726',\n",
       "  'comments': [{'subreddit_id': 't5_2w2s8',\n",
       "    'banned_by': None,\n",
       "    'link_id': 't3_2ro9ux',\n",
       "    'likes': None,\n",
       "    'replies': {'kind': 'Listing',\n",
       "     'data': {'modhash': '',\n",
       "      'children': ['cnhrvq7', 'cnhpsmr', 'cnhqzsf', 'cni8tcx'],\n",
       "      'after': None,\n",
       "      'before': None}},\n",
       "    'user_reports': [],\n",
       "    'saved': False,\n",
       "    'id': 'cnhplrm',\n",
       "    'gilded': 0,\n",
       "    'report_reasons': None,\n",
       "    'author': 'Account9726',\n",
       "    'parent_id': 't3_2ro9ux',\n",
       "    'score': 20,\n",
       "    'approved_by': None,\n",
       "    'controversiality': 0,\n",
       "    'body': 'Look at the definition you provided, if we remove the exclusion of things which humans create:\\n\\n&gt; existing in nature ~~and not made or caused by people~~\\n\\nSo essentially, by this definition, \"natural things\" are \"things that exist,\" which is frankly rather meaningless. If one wanted to discuss the results of human activity we would then have to make up a new word which could be redefined by the same argument. \\n\\nThe whole point of the word is to exclude human activity. If you remove that aspect, it simply ceases to have meaning.',\n",
       "    'edited': False,\n",
       "    'author_flair_css_class': ' points',\n",
       "    'downs': 0,\n",
       "    'body_html': '&lt;div class=\"md\"&gt;&lt;p&gt;Look at the definition you provided, if we remove the exclusion of things which humans create:&lt;/p&gt;\\n\\n&lt;blockquote&gt;\\n&lt;p&gt;existing in nature &lt;del&gt;and not made or caused by people&lt;/del&gt;&lt;/p&gt;\\n&lt;/blockquote&gt;\\n\\n&lt;p&gt;So essentially, by this definition, &amp;quot;natural things&amp;quot; are &amp;quot;things that exist,&amp;quot; which is frankly rather meaningless. If one wanted to discuss the results of human activity we would then have to make up a new word which could be redefined by the same argument. &lt;/p&gt;\\n\\n&lt;p&gt;The whole point of the word is to exclude human activity. If you remove that aspect, it simply ceases to have meaning.&lt;/p&gt;\\n&lt;/div&gt;',\n",
       "    'subreddit': 'changemyview',\n",
       "    'score_hidden': False,\n",
       "    'name': 't1_cnhplrm',\n",
       "    'created': 1420697092.0,\n",
       "    'author_flair_text': '4∆',\n",
       "    'created_utc': 1420668292.0,\n",
       "    'ups': 20,\n",
       "    'mod_reports': [],\n",
       "    'num_reports': None,\n",
       "    'distinguished': None}]},\n",
       " 'negative': {'ancestor': 't1_cnhqcwz',\n",
       "  'author': 'Nepene',\n",
       "  'comments': [{'subreddit_id': 't5_2w2s8',\n",
       "    'banned_by': None,\n",
       "    'link_id': 't3_2ro9ux',\n",
       "    'likes': None,\n",
       "    'replies': '',\n",
       "    'user_reports': [],\n",
       "    'saved': False,\n",
       "    'id': 'cnhqcwz',\n",
       "    'gilded': 0,\n",
       "    'report_reasons': None,\n",
       "    'author': 'Nepene',\n",
       "    'parent_id': 't3_2ro9ux',\n",
       "    'score': 1,\n",
       "    'approved_by': None,\n",
       "    'controversiality': 0,\n",
       "    'body': 'You\\'re using natural to mean definition 8\\n\\n&gt;the universe, with all its phenomena. \\n\\nhttp://dictionary.reference.com/browse/nature\\n\\n&gt;The more common definition is definition 1.\\n\\n\"the material world, especially as surrounding humankind and existing independently of human activities. \"\\n\\nSo by definition we are not part of nature, as nature is more commonly used, and is in this sense used, to refer to things that exist independently of human activities.\\n\\nAnd before you mention the word independent.\\n\\nhttp://dictionary.reference.com/browse/independent?s=t\\n\\n\"not influenced or controlled by others in matters of opinion, conduct, etc.; thinking or acting for oneself: \"\\n\\nJust, say, breathing air that humans breathed isn\\'t enough.',\n",
       "    'edited': False,\n",
       "    'author_flair_css_class': 'points ',\n",
       "    'downs': 0,\n",
       "    'body_html': '&lt;div class=\"md\"&gt;&lt;p&gt;You&amp;#39;re using natural to mean definition 8&lt;/p&gt;\\n\\n&lt;blockquote&gt;\\n&lt;p&gt;the universe, with all its phenomena. &lt;/p&gt;\\n&lt;/blockquote&gt;\\n\\n&lt;p&gt;&lt;a href=\"http://dictionary.reference.com/browse/nature\"&gt;http://dictionary.reference.com/browse/nature&lt;/a&gt;&lt;/p&gt;\\n\\n&lt;blockquote&gt;\\n&lt;p&gt;The more common definition is definition 1.&lt;/p&gt;\\n&lt;/blockquote&gt;\\n\\n&lt;p&gt;&amp;quot;the material world, especially as surrounding humankind and existing independently of human activities. &amp;quot;&lt;/p&gt;\\n\\n&lt;p&gt;So by definition we are not part of nature, as nature is more commonly used, and is in this sense used, to refer to things that exist independently of human activities.&lt;/p&gt;\\n\\n&lt;p&gt;And before you mention the word independent.&lt;/p&gt;\\n\\n&lt;p&gt;&lt;a href=\"http://dictionary.reference.com/browse/independent?s=t\"&gt;http://dictionary.reference.com/browse/independent?s=t&lt;/a&gt;&lt;/p&gt;\\n\\n&lt;p&gt;&amp;quot;not influenced or controlled by others in matters of opinion, conduct, etc.; thinking or acting for oneself: &amp;quot;&lt;/p&gt;\\n\\n&lt;p&gt;Just, say, breathing air that humans breathed isn&amp;#39;t enough.&lt;/p&gt;\\n&lt;/div&gt;',\n",
       "    'subreddit': 'changemyview',\n",
       "    'score_hidden': False,\n",
       "    'name': 't1_cnhqcwz',\n",
       "    'created': 1420698347.0,\n",
       "    'author_flair_text': '60∆',\n",
       "    'created_utc': 1420669547.0,\n",
       "    'ups': 1,\n",
       "    'mod_reports': [],\n",
       "    'num_reports': None,\n",
       "    'distinguished': None}]},\n",
       " 'op_name': 't3_2ro9ux'}"
      ]
     },
     "execution_count": 16,
     "metadata": {},
     "output_type": "execute_result"
    }
   ],
   "source": [
    "pair_train[0]"
   ]
  },
  {
   "cell_type": "code",
   "execution_count": 3,
   "id": "29f0e315",
   "metadata": {},
   "outputs": [
    {
     "name": "stdout",
     "output_type": "stream",
     "text": [
      "{'downs', 'clicked', 'ups', 'banned_by', 'num_reports', 'over_18', 'secure_media_embed', 'comments', 'media', 'edited', 'report_reasons', 'selftext_html', 'is_self', 'stickied', 'visited', 'media_embed', 'author_flair_css_class', 'permalink', 'created', 'suggested_sort', 'domain', 'subreddit', 'secure_media', 'name', 'archived', 'mod_reports', 'author_flair_text', 'url', 'hidden', 'selftext', 'likes', 'user_reports', 'thumbnail', 'title', 'distinguished', 'num_comments', 'approved_by', 'created_utc', 'gilded', 'subreddit_id', 'saved', 'id', 'link_flair_text', 'link_flair_css_class', 'author', 'score'}\n"
     ]
    }
   ],
   "source": [
    "complete_key_set = []\n",
    "for a in all_train:\n",
    "    complete_key_set.extend(list(a.keys()))\n",
    "complete_key_set = set(complete_key_set)\n",
    "print(complete_key_set)"
   ]
  },
  {
   "cell_type": "code",
   "execution_count": 4,
   "id": "57b7a70f",
   "metadata": {},
   "outputs": [],
   "source": [
    "def attch_to_parent(current, tree_dict, layer):\n",
    "    # BFS search\n",
    "    if current['parent_id'] in tree_dict:\n",
    "        tree_dict[current['parent_id']][current['name']] = {}\n",
    "        return None\n",
    "    else:\n",
    "        for k, v in tree_dict.items():\n",
    "#             print(f\"searching for {current['parent_id']} in {v.keys()}\")\n",
    "            attch_to_parent(current, v, layer + 1)\n",
    "\n",
    "def print_tree(tree_dict, layer, orig, root):\n",
    "    if tree_dict == {}:\n",
    "        print('======================== end of subtree ========================')\n",
    "        return\n",
    "    else:\n",
    "        for k, v in tree_dict.items():\n",
    "            print(f'{\" \".join([\"*\"] * layer)} {k}')\n",
    "            if k != root:\n",
    "                print(orig[k])\n",
    "            print_tree(v, layer + 3, orig, root)"
   ]
  },
  {
   "cell_type": "code",
   "execution_count": 5,
   "id": "f0b94806",
   "metadata": {},
   "outputs": [],
   "source": [
    "def show_comments(cmv_post):\n",
    "    root = cmv_post['name']\n",
    "    if 'comments' not in cmv_post:\n",
    "        print('No comments found')\n",
    "    else:\n",
    "        print(len(cmv_post['comments']))\n",
    "        tree_dict = {root: {}}\n",
    "        for i in range(len(cmv_post['comments'])):\n",
    "            current = cmv_post['comments'][i]\n",
    "            attch_to_parent(current, tree_dict, 0)\n",
    "        comments_dict = {c['name']: c['author'] + '\\t' + c['body'] for c in cmv_post['comments']}\n",
    "        print_tree(tree_dict, 0, comments_dict, root)\n"
   ]
  },
  {
   "cell_type": "code",
   "execution_count": 6,
   "id": "9b686aa3",
   "metadata": {},
   "outputs": [
    {
     "name": "stdout",
     "output_type": "stream",
     "text": [
      "7\n",
      " t3_2rpvc7\n",
      "* * * t1_cnibo8i\n",
      "Kman17\tI'd be a little bit cautious of removing the self-policing elements out of the sport.  A bench clearing brawl is usually retaliation for a headhunting pitcher.  \n",
      "\n",
      "If you come down hard on retaliation, you then have to come down hard on the instigation as well... and before you know it, the sport itself is radically different.\n",
      "\n",
      "Just look at the NBA.  The NBA, mostly after Jordan in the late 90's / early 00's, came down hard on player altercations.  This was for a variety of reasons mostly related to image / sportsmanship (and the racial double-standards put on mostly black players, but I digress) and to a lesser extent injuries.  \n",
      "\n",
      "The occasional scuffles of the 80's / 90's became unheard of... and following that, the league came down hard on \"chippy\" fouls, and now they hand out double technicals any time anyone looks at anyone funny.  The end result is that reckless and sloppy charging to the basket, and relying on the superstar treatment to get to the free throw line has become the dominant strategy.  It was hard to watch any Dwane Wade championship without vomitting at what the league had become.\n",
      "\n",
      "Hockey, OTOH, has had minor corrections to its tolerance of fighting - despite calls to ban it outright.  The hardcore fans, the players, everyone into the sport knows that it's mostly harmless (since they fight in pads) blowing off steam and happens less than many belief.  Removing it would lead to more dangerous forms of retaliation (cheap hits) OR force watering down the physicality of the game.  And the sport is better as a result.  Hockey's woes a few years ago were largely related to over-expansion... but the game is in a good place now.\n",
      "* * * * * * t1_cnikfa7\n",
      "The_Aesir9613\tGood points.  I would argue though that Hockey fights aren't harmless.  The number of concussions as a result of fights leads one to believe different.    Just look at Derek Boogaard.\n",
      "======================== end of subtree ========================\n",
      "* * * t1_cni5tm6\n",
      "MageZero\t Major League Baseball has not only survived, but flourished for 145 years. I'm pretty sure that the occasional bench clearing brawl makes any difference whatsoever. \n",
      "======================== end of subtree ========================\n",
      "* * * t1_cni6vol\n",
      "CherrySlurpee\tThey really actually help the sport.\n",
      "\n",
      "Baseball, to most people, is a snooze fest now. The occasional bench clearing brawl draws a lot of attention to the game, even if its only for a short period. \n",
      "* * * * * * t1_cni7f98\n",
      "The_Aesir9613\tThey can be exciting, yes, but that only means people enjoyed watching a brawl.  That doesn't mean they enjoyed watching baseball being played.\n",
      "* * * * * * * * * t1_cniszwq\n",
      "SOLUNAR\t&gt; That doesn't mean they enjoyed watching baseball being played.\n",
      "\n",
      "Take what you can get! humans like action period, unless you are a hardcore fan, Baseball is one of the most boring sports to watch live. Due to the large amount of waiting involved.\n",
      "\n",
      "I dont know if it would help the sport, but its in no way hurting it.\n",
      "* * * * * * * * * * * * t1_cnjaebu\n",
      "The_Aesir9613\tIt's not a legitimate argument to say baseball is boring because of the large amount of \"waiting\".  Baseball is about assessment and execution (what is the pitcher thinking, what is the batsmen thinking?).  Bickering over who is a hardcore fan and who isn't, isn't a valid argument. I consider myself a \"hardcore\" fan but I know many people who are bigger fans than me.\n",
      "======================== end of subtree ========================\n"
     ]
    }
   ],
   "source": [
    "show_comments(all_train[0])"
   ]
  },
  {
   "cell_type": "code",
   "execution_count": 7,
   "id": "beef7f6d",
   "metadata": {},
   "outputs": [
    {
     "name": "stdout",
     "output_type": "stream",
     "text": [
      "t1_cnibo8i\tt3_2rpvc7\t{'kind': 'Listing', 'data': {'modhash': '', 'children': ['cnikfa7'], 'after': None, 'before': None}}\n",
      "t1_cnikfa7\tt1_cnibo8i\t\n",
      "t1_cni5tm6\tt3_2rpvc7\t\n",
      "t1_cni6vol\tt3_2rpvc7\t{'kind': 'Listing', 'data': {'modhash': '', 'children': ['cni7f98'], 'after': None, 'before': None}}\n",
      "t1_cni7f98\tt1_cni6vol\t{'kind': 'Listing', 'data': {'modhash': '', 'children': ['cniszwq'], 'after': None, 'before': None}}\n",
      "t1_cniszwq\tt1_cni7f98\t{'kind': 'Listing', 'data': {'modhash': '', 'children': ['cnjaebu'], 'after': None, 'before': None}}\n",
      "t1_cnjaebu\tt1_cniszwq\t\n"
     ]
    }
   ],
   "source": [
    "# sanity check\n",
    "for a in all_train[0]['comments']:\n",
    "    print(f\"{a['name']}\\t{a['parent_id']}\\t{a['replies']}\")"
   ]
  },
  {
   "cell_type": "code",
   "execution_count": 8,
   "id": "1dd8f4a9",
   "metadata": {},
   "outputs": [
    {
     "name": "stdout",
     "output_type": "stream",
     "text": [
      "10743, 3191\n"
     ]
    }
   ],
   "source": [
    "malleable_op = [post[\"name\"] for post in original_posts_train if post[\"delta_label\"]]\n",
    "print(f'{len(original_posts_train)}, {len(malleable_op)}')"
   ]
  },
  {
   "cell_type": "code",
   "execution_count": 9,
   "id": "73e8080d",
   "metadata": {},
   "outputs": [
    {
     "name": "stdout",
     "output_type": "stream",
     "text": [
      "30\n",
      " t3_2ro0ti\n",
      "* * * t1_cnhpddf\n",
      "Legomystrudel\tMay or may not have any sort of healing properties, but they smell really good.\n",
      "* * * * * * t1_cnhpqan\n",
      "GoldenTaint\tMost do.  Some smell kinda funky.\n",
      "======================== end of subtree ========================\n",
      "* * * t1_cnhuxye\n",
      "Bradm77\t[This answer in /r/askscience does a pretty good job of describing essential oils.](http://www.reddit.com/r/askscience/comments/2pp57r/how_effective_are_essential_oils/cmytzdq) As the comment points out there are benefits to essential oils if they are used in the right way.  However, the current fad mixes the raw essential oils with other stuff that may or may not be good for you.  The raw essential oils are actually \"a vital resource for drug discovery.\"\n",
      "* * * * * * t1_cni1m79\n",
      "GoldenTaint\t&amp;#8710; While my view may not have shifted enough for me to avoid pissing my wife off, I have to say that you really brought home the bacon on this one and gave me some hope for the oils.  thank you for your response. \n",
      "* * * * * * * * * t1_cni24ug\n",
      "DeltaBot\tConfirmed: 1 delta awarded to /u/Bradm77. ^[[History](/r/changemyview/wiki/user/Bradm77)]\n",
      "\n",
      "^[[Wiki](http://www.reddit.com/r/changemyview/wiki/deltabot)][[Code](https://github.com/alexames/DeltaBot)][[Subreddit](http://www.reddit.com/r/DeltaBot/)]\n",
      "======================== end of subtree ========================\n",
      "* * * t1_cnhrcu4\n",
      "Mattpilf\tClove oil: http://www.jodjournal.com/article/S0300-5712(06)00024-8/abstract#/article/S0300-5712(06)00024-8/abstract) (actual study and journal)\n",
      "\n",
      "Actually used for some reduction in pain primarily tooth related. Commonly used for dry sockets after tooth extractions. FDA did recognize it's legitmate use, but I think has started to shy away from recommending it.\n",
      "\n",
      "Also certain one probably have some minor antibiotic properties, but I wouldn't recommend them, and dont have many studies.\n",
      "\n",
      "Overall most probably dont do much good, and some contain toxic compounds which in small amounts consumed or rubbed on skin(serious issue actually) would be fine, but the essential oils make it easier to reach certain levels that may be toxic in the long term.\n",
      "\n",
      "Also, some smell good. If it calms you down, that a real effect. If it clears your sinuses, that's a real effect too.\n",
      "\n",
      "Total BS? no. Mostly BS? Very possible.\n",
      "======================== end of subtree ========================\n",
      "* * * t1_cni06fr\n",
      "poyopoyo\tThis is an anecdote, which is specifically not what you asked for. But it's not a pro-essential-oil testimony, so maybe you will find it interesting.\n",
      "\n",
      "I used to go for regular massages with a group of friends. Just basic back massages using oil, with some essential oils added for \"relaxation\". The first time we went, I felt extremely nauseous and dizzy afterwards and had to sit down for 20-30 minutes till it passed off. Eventually we worked out it was the essential oils - if I got a massage with just carrier oil (almond?) I was fine; if she added essential oils I was sick.\n",
      "\n",
      "I wouldn't expect something so negative to be a placebo effect (I had either neutral or mildly positive expectations for essential oils). And the effect seemed repeatable and strong. So, I wouldn't say I've found essential oils to be helpful for anything (except making me feel sick) but on the principle that if a drug has a real effect on the body then it should also be able to have side-effects - something natural medicine enthusiasts seem to often ignore - I suppose this has made me more open to the possibility that they have genuine physiological effects.\n",
      "\n",
      "Probably worth pointing out though that none of my friends had this reaction!\n",
      "\n",
      "From an actual scientific evidence point of view there are at least a few cases where there are real studies to support e.g. tea tree oil having antiseptic properties, but maybe these cases are exceptions.\n",
      "======================== end of subtree ========================\n",
      "* * * t1_cnhp0bu\n",
      "goribilli\tOK, so, yes, in most cases, essential oils are bullshit when it comes to all this craze about natural healing products and whatnot. But there are some that are SO AWESOME!!! Props to you for being skeptical! Let me see if I can change your view on a couple of oils...\n",
      "\n",
      "Lavender Oil: This is primarily used for relaxation and anxiety relief. There have been several studies performed over many years that have more or less proven this pretty well. I use it myself sometimes after laundering the bedclothes, putting a bit in the pillowcases. I used to foster a really crazy Yorkie, and a tiny dab of the oil on her paws made her unbelievably relaxed and calm.\n",
      "\n",
      "Tea Tree Oil: This is good for minor infections and small wounds. It's endorsed by many doctors, and is even featured on WebMD for these uses (to a lesser extent a LOT of other healing things, but these haven't been studied well.) \n",
      "\n",
      "Peppermint Oil: While there aren't a lot of conclusive studies available for it, this shit is awesome for digestive issues in my experience when combined with other ingredients. The best medicine I ever had for digestive issues was infused with the stuff. Also, peppermint oil is AMAZING for deterring mosquitoes.\n",
      "\n",
      "Anyway, the stuff is useful, and typically smells awesome. As long as she isn't destroying her own pocketbook, I think your wife will be fine. The three oils I mentioned (plus a few others) I buy myself at discounts, usually on Amazon, for the uses I mentioned. I don't know what kind of pyramid schemes you're referring to, but anything that is a pyramid scheme is probably bad. :(\n",
      "* * * * * * t1_cnhppsw\n",
      "GoldenTaint\tFrom my experience:\n",
      "\n",
      "Lavender Oil: My has rubbed the crap on me to \"make me sleepy\".  It does NOT work for me.  Last night, wife put some on a raging baby that we were watching.  It did NOT work. \n",
      "\n",
      "Peppermint Oil: Wife heard this same thing and, following internet advice, placed a drop upon her tongue.  She said it was the most intense shit's she's ever had. \n",
      "* * * * * * * * * t1_cnhwhma\n",
      "nickelrw87\tkeep in mind these aren't \"narcotics\". They aren't meant to have those intense effects, as it looks like you are expecting from them. I feel like you are looking at it in a sense that, once you rub the oil on you - then you should feel heavily sedated as if you took valium, or another narcotic. (in particular the lavender example you stated above)\n",
      "======================== end of subtree ========================\n",
      "* * * t1_cnho6mi\n",
      "Mavericgamer\tI'm not an expert on essential oils, but I know a thing or two about cons.\n",
      "\n",
      "Here is how I suggest that you approach this: Find your wife's supplier/whatever, and ask them the difficult questions. How does it work? What ailments does it cure? What about the chemistry of these oils makes it work? How does the bacteria/virus/fungus/etc react to these oils in laboratory conditions in a double-blind test?\n",
      "\n",
      "Basically, if this is another dupe, they'll lead you up the pyramid until you find someone who can either answer your questions, or will start dodging them. Which of these they do will be the proof you need, one way or another.\n",
      "* * * * * * t1_cnhot32\n",
      "GoldenTaint\tThis is exactly where I'm at in my view on this stuff but there don't seem to be any answers to these questions, other than claims that they cure just about everything.  Got a headache?  Just rub some of this on your foot.  \n",
      "* * * * * * * * * t1_cnhp1pb\n",
      "Mavericgamer\tThat sounds dangerously like Aromatherapy. I feel like something similar was featured on an episode of Penn &amp; Teller's *Bullshit!* but I'm at work and can't find the clip currently.\n",
      "======================== end of subtree ========================\n",
      "* * * t1_cnho7iy\n",
      "eliminate1337\tIn the scientific sense, 'essential'  literally means having an essence, in other words having a smell. Essential oils are plant extracts that contain the aromatic compounds of that plant. \n",
      "\n",
      "The healing properties are most definitely BS, other than smelling nice and helping you relax they have no proven benefits. \n",
      "\n",
      "Some might have minor positive effects, for example menthol or mint extract clears the nose and sinuses but that's about it. \n",
      "* * * * * * t1_cnhoqp4\n",
      "GoldenTaint\tSeems to me that the \"healing effects\" work just like placebos. \n",
      "======================== end of subtree ========================\n",
      "* * * t1_cnhobzs\n",
      "Cavemonster\tI can't speak to your wife's particular situation. It seems likely that the business she's getting involved with is BS. Health and medical claims being slyly implied are almost certainly BS.\n",
      "\n",
      "But the oils themselves are a legitimate part of perfumery, candle making and a number of honest crafts that value nice smells.\n",
      "* * * * * * t1_cnhop4t\n",
      "GoldenTaint\tThanks for the comment, but I'm afraid you are only strengthening my view on this. \n",
      "* * * * * * * * * t1_cnhp1nq\n",
      "Mrwhitepantz\tYou're saying that they are \"total BS\" and you want your view changed, but they aren't total BS. The health claims are false, but they do have legitimate uses in making candles, scented skin care products, shampoo, etc.  \n",
      "* * * * * * * * * * * * t1_cnhpgyd\n",
      "GoldenTaint\tWell, I'm not doubting that the oils have scents.  I'm just skeptical about the healing claims.  \n",
      "======================== end of subtree ========================\n",
      "* * * * * * * * * t1_cnhp5lp\n",
      "isleepinahammock\tWell how do you expect people to change this view? \n",
      "\n",
      "CMV is really about questions about value judgments. People ask, \"is this thing morally right/wrong?\" Or, \"government policy should be this.\"\n",
      "\n",
      "It's not really the place to ask something that is a solid, undeniable, scientifically-established fact. Your question is a bit like asking, \"I believe in Newton's Laws of Motion and Einstein's refinements to them. Change my view.\"\n",
      "\n",
      "The only time I think someone should ask a question that relates to a scientifically provable, objective question is if they hold a view that is contrary to established scientific norms. For example, someone could ask, \"I don't believe in evolution. Change my view.\"\n",
      "* * * * * * * * * * * * t1_cnhplmn\n",
      "GoldenTaint\tI've searched a bit to try to find something to debunk the healing claims essential oils makes, but only found stuff in support of them.  I thought this would be the place to go as I have not found anything specific that provides solid, undeniable, scientifically-established fact that they are BS.    \n",
      "\n",
      "Basically, I feel that I am in the minority with my view on this right now and honestly thought that essential oil lovers would jump all over my ass with sources to support the craze.  \n",
      "* * * * * * * * * * * * * * * t1_cni3tyd\n",
      "Raborn\ttry \"debunking essential oils\" or \"Essential oil skepticism\"\n",
      "======================== end of subtree ========================\n",
      "* * * * * * * * * * * * t1_cnhqck4\n",
      "GoldenTaint\tAdditionally, I want to express that I really and truly do want someone to CMV on this.  My views are creating friction in my life as they really piss my wife off.  Everywhere I turn, I see nothing but full support for this shit and it really feels like I may be in the wrong here.  \n",
      "======================== end of subtree ========================\n",
      "* * * * * * t1_cnhpee3\n",
      "Maukeb\tThe oils are also the basis of the flavours we get by infusion, which is the method that a lot of artisan foods (chocolates, fudge/caramel/confectionary, spirits etc.) are flavoured by.\n",
      "======================== end of subtree ========================\n",
      "* * * t1_cnhregg\n",
      "learhpa\tThey smell good when heated gently, and so are a good replacement for incense or air fresheners.\n",
      "======================== end of subtree ========================\n",
      "* * * t1_cniogf7\n",
      "Alpy94\tEssential oil have really misleading name. They are not essential in the sense that you need them to survive. They are essential as in 'in essence of something'. They are just oils that smell good.\n",
      "======================== end of subtree ========================\n",
      "* * * t1_cnhowj2\n",
      "TBFProgrammer\tFound a nice little [article](http://pediatricinsider.wordpress.com/2014/01/23/essential-oils-when-shady-marketing-and-quackery-meet/) for you. One of the examples listed could clearly have a benefit in any place where estrogen therapy would have a benefit. So, with a careful enough utilization, these oils could have actual health benefits for certain conditions. Otherwise they are a dangerous placebo choice. For instance, marijuana is derived from the Cannabis family of plants. It could easily be provided in an \"essential oil\" form.\n",
      "\n",
      "Basically, \"essential oils\" are simply a re-branding of drugs (which started as a re-branding of herbs to distinguish the amount of study that went into creating them).\n",
      "* * * * * * t1_cnhxuu1\n",
      "medguy633489\tThis article would not be accepted by any reputable medical professional. It is not peer-reviewed and is just 1 MDs opinion.\n",
      "* * * * * * * * * t1_cniedbg\n",
      "TBFProgrammer\tDebunking articles typically aren't peer-reviewed and typically are just opinions. This is what the OP asked for. What debunking articles typically do provide is a level of nuance which is often missing from the claim itself. In other words, they give a direction in which we can start digging.\n",
      "* * * * * * * * * * * * t1_cnixgm0\n",
      "medguy633489\tI mean in the medical community a \"debunking article\" has absolutely no weight and would be laughed at if trying to discuss a claim for the validity of anything.\n",
      "======================== end of subtree ========================\n"
     ]
    }
   ],
   "source": [
    "for at in all_train:\n",
    "    if at['name'] in malleable_op:\n",
    "        show_comments(at)\n",
    "#         print(at)\n",
    "        break"
   ]
  },
  {
   "cell_type": "code",
   "execution_count": 10,
   "id": "1dc1efe9",
   "metadata": {},
   "outputs": [],
   "source": [
    "from IPython.display import Markdown\n",
    "\n",
    "\n",
    "def show_post(cmv_post):\n",
    "    md_format = \"**{title}** \\n\\n {selftext}\".format(**cmv_post)\n",
    "    md_format = \"\\n\".join([\"> \" + line for line in md_format.splitlines()])\n",
    "    return Markdown(md_format)"
   ]
  },
  {
   "cell_type": "code",
   "execution_count": 11,
   "id": "bdb77614",
   "metadata": {},
   "outputs": [
    {
     "data": {
      "text/markdown": [
       "> **CMV: Their is no shame in pirating \"The Interview\" because of how poorly Sony handled the situation.** \n",
       "> \n",
       ">  Sony blundered the response to The Interview and then took a last minute turn because they saw a way to make a huge profit from it. While I don't think this was an intentional marketing gimmick, I also don't see a problem in pirating a movie they initially wanted to shelve indefinitely until they were shamed into releasing it. The company should be deeply embarrassed by how it acted during the situation, and I don't think they should be rewarded monetarily for the way they acted, even if they eventually did the \"right\" thing by releasing the film instead of indefinitely shelving it.\n",
       "> \n",
       "> Even though Sony spent millions of dollars producing the movie, they handled the whole fiasco so ineptly that the President, the media, and the internet basically shamed them into releasing it. There should be no shame in our part for downloading a movie if one doesn't want to support the studio for their mismanagement. \n",
       "> \n",
       "> Edit: I feel pretty stupid that I obviously used the wrong use of \"there\" in the title.\n",
       "> \n",
       "> _____\n",
       "> \n",
       "> &gt; *Hello, users of CMV! This is a footnote from your moderators. We'd just like to remind you of a couple of things. Firstly, please remember to* ***[read through our rules](http://www.reddit.com/r/changemyview/wiki/rules)***. *If you see a comment that has broken one, it is more effective to report it than downvote it. Speaking of which,* ***[downvotes don't change views](http://www.reddit.com/r/changemyview/wiki/guidelines#wiki_upvoting.2Fdownvoting)****! If you are thinking about submitting a CMV yourself, please have a look through our* ***[popular topics wiki](http://www.reddit.com/r/changemyview/wiki/populartopics)*** *first. Any questions or concerns? Feel free to* ***[message us](http://www.reddit.com/message/compose?to=/r/changemyview)***. *Happy CMVing!*"
      ],
      "text/plain": [
       "<IPython.core.display.Markdown object>"
      ]
     },
     "execution_count": 11,
     "metadata": {},
     "output_type": "execute_result"
    }
   ],
   "source": [
    "show_post(all_train[200])"
   ]
  },
  {
   "cell_type": "code",
   "execution_count": 12,
   "id": "8a07afca",
   "metadata": {},
   "outputs": [],
   "source": [
    "def cleanup(cmv_post):\n",
    "    lines = [line for line in cmv_post.splitlines()\n",
    "             if not line.lstrip().startswith(\"&gt;\")\n",
    "             and not line.lstrip().startswith(\"____\")\n",
    "             and \"edit\" not in \" \".join(line.lower().split()[:2])\n",
    "            ]\n",
    "    return \"\\n\".join(lines)"
   ]
  },
  {
   "cell_type": "code",
   "execution_count": 13,
   "id": "d35adeba",
   "metadata": {},
   "outputs": [
    {
     "data": {
      "text/markdown": [
       "> **CMV: Their is no shame in pirating \"The Interview\" because of how poorly Sony handled the situation.** \n",
       "> \n",
       ">  Sony blundered the response to The Interview and then took a last minute turn because they saw a way to make a huge profit from it. While I don't think this was an intentional marketing gimmick, I also don't see a problem in pirating a movie they initially wanted to shelve indefinitely until they were shamed into releasing it. The company should be deeply embarrassed by how it acted during the situation, and I don't think they should be rewarded monetarily for the way they acted, even if they eventually did the \"right\" thing by releasing the film instead of indefinitely shelving it.\n",
       "> \n",
       "> Even though Sony spent millions of dollars producing the movie, they handled the whole fiasco so ineptly that the President, the media, and the internet basically shamed them into releasing it. There should be no shame in our part for downloading a movie if one doesn't want to support the studio for their mismanagement. \n",
       "> \n",
       "> "
      ],
      "text/plain": [
       "<IPython.core.display.Markdown object>"
      ]
     },
     "execution_count": 13,
     "metadata": {},
     "output_type": "execute_result"
    }
   ],
   "source": [
    "show_post(dict(title=all_train[200]['title'],\n",
    "               selftext=cleanup(all_train[200]['selftext'])))"
   ]
  },
  {
   "cell_type": "code",
   "execution_count": 14,
   "id": "e7c97f43",
   "metadata": {},
   "outputs": [],
   "source": [
    "import sklearn\n",
    "from sklearn.feature_extraction.text import TfidfVectorizer\n",
    "from sklearn.model_selection import train_test_split\n",
    "from sklearn.linear_model import LogisticRegressionCV\n",
    "from sklearn.metrics import roc_auc_score"
   ]
  },
  {
   "cell_type": "code",
   "execution_count": 22,
   "id": "b94d28b9",
   "metadata": {},
   "outputs": [
    {
     "data": {
      "text/plain": [
       "'Look at the definition you provided, if we remove the exclusion of things which humans create:\\n\\n&gt; existing in nature ~~and not made or caused by people~~\\n\\nSo essentially, by this definition, \"natural things\" are \"things that exist,\" which is frankly rather meaningless. If one wanted to discuss the results of human activity we would then have to make up a new word which could be redefined by the same argument. \\n\\nThe whole point of the word is to exclude human activity. If you remove that aspect, it simply ceases to have meaning.'"
      ]
     },
     "execution_count": 22,
     "metadata": {},
     "output_type": "execute_result"
    }
   ],
   "source": [
    "pair_train[0]['positive']['comments'][0]['body']"
   ]
  },
  {
   "cell_type": "code",
   "execution_count": 23,
   "id": "008d1835",
   "metadata": {},
   "outputs": [],
   "source": [
    "# prepare the data in Python list form\n",
    "\n",
    "text_train = [\n",
    "    cleanup(tr['positive']['comments'][0]['body'])\n",
    "    for tr\n",
    "    in pair_train\n",
    "]\n",
    "\n",
    "text_test = [\n",
    "    cleanup(te['positive']['comments'][0]['body'])\n",
    "    for te\n",
    "    in pair_test\n",
    "]"
   ]
  },
  {
   "cell_type": "code",
   "execution_count": 24,
   "id": "7e5b684c",
   "metadata": {},
   "outputs": [
    {
     "data": {
      "text/plain": [
       "['Look at the definition you provided, if we remove the exclusion of things which humans create:\\n\\n\\nSo essentially, by this definition, \"natural things\" are \"things that exist,\" which is frankly rather meaningless. If one wanted to discuss the results of human activity we would then have to make up a new word which could be redefined by the same argument. \\n\\nThe whole point of the word is to exclude human activity. If you remove that aspect, it simply ceases to have meaning.',\n",
       " '[This answer in /r/askscience does a pretty good job of describing essential oils.](http://www.reddit.com/r/askscience/comments/2pp57r/how_effective_are_essential_oils/cmytzdq) As the comment points out there are benefits to essential oils if they are used in the right way.  However, the current fad mixes the raw essential oils with other stuff that may or may not be good for you.  The raw essential oils are actually \"a vital resource for drug discovery.\"',\n",
       " 'I guess I look at it this way- there have absolutely been times when gun ownership, or carrying weapons on ones person in general was more prevalent than it is today. Those time periods/places did not enjoy lower rates of violent death. \\n\\nConsider the \"wild west.\" Obviously it wasn\\'t nearly as full of gun battles as the movies make it seem, but according [this study] (http://cjrc.osu.edu/homicide-rates-american-west-randolph-roth) the murder rate was \"extraordinarily high by today\\'s standard.\" \\n\\nLooking at the rest of the thread, I think I see what might be a flaw in our collective logic. The incidents that stand out most in our heads are events like Paris or Aurora or Columbine- premeditated shootings with the intent of inflicting a lot of casualties. If the staff at Charlie Hebdo or Columbine High had guns, they certainly might have been able to end these incidents earlier. They also might have inflicted more casualties with stray bullets. These types of hypothetical calculations aren\\'t really helpful, in my opinion.\\n\\nBut lets assume that more guns makes mass shootings less likely. Would this actually make a more heavily armed society a more polite one?\\n\\nI don\\'t think it would, because though premeditated murders could well be less likely, accidental deaths, unplanned homicides, and suicides would like increase. \\n\\nThis study found that owning a gun makes one more likely to die from suicide *and* homicide. Of course, that\\'s correlation, so there might be some third factor at play that makes gun owners more likely to b targets of crime or clinically depressed, but it certainly suggests that owning a gun doesn\\'t automatically make you safer.\\nhttp://aje.oxfordjournals.org/content/160/10/929.full\\n \\nWhether or not more guns would prevent events like today\\'s isn\\'t the issue (though I am inclined to say they wouldn\\'t necessarily do that), it seems like a greater proliferation of weapons would be more dangerous for a number of other reasons.']"
      ]
     },
     "execution_count": 24,
     "metadata": {},
     "output_type": "execute_result"
    }
   ],
   "source": [
    "text_train[:3]"
   ]
  },
  {
   "cell_type": "code",
   "execution_count": 26,
   "id": "1179bede",
   "metadata": {},
   "outputs": [],
   "source": [
    "vect = TfidfVectorizer(use_idf=False, norm='l1')\n",
    "X_train = vect.fit_transform(text_train)"
   ]
  },
  {
   "cell_type": "code",
   "execution_count": 28,
   "id": "ff112c54",
   "metadata": {},
   "outputs": [
    {
     "name": "stdout",
     "output_type": "stream",
     "text": [
      "  (0, 16196)\t0.012345679012345678\n",
      "  (0, 2942)\t0.012345679012345678\n",
      "  (0, 26677)\t0.07407407407407407\n",
      "  (0, 7675)\t0.024691358024691357\n",
      "  (0, 29803)\t0.024691358024691357\n",
      "  (0, 21266)\t0.012345679012345678\n",
      "  (0, 13590)\t0.037037037037037035\n",
      "  (0, 29141)\t0.024691358024691357\n",
      "  (0, 22436)\t0.024691358024691357\n",
      "  (0, 10141)\t0.012345679012345678\n",
      "  (0, 18687)\t0.037037037037037035\n",
      "  (0, 26796)\t0.037037037037037035\n",
      "  (0, 29284)\t0.037037037037037035\n",
      "  (0, 13363)\t0.012345679012345678\n",
      "  (0, 6968)\t0.012345679012345678\n",
      "  (0, 24722)\t0.012345679012345678\n",
      "  (0, 9934)\t0.012345679012345678\n",
      "  (0, 4606)\t0.024691358024691357\n",
      "  (0, 26815)\t0.012345679012345678\n",
      "  (0, 17961)\t0.012345679012345678\n",
      "  (0, 2640)\t0.012345679012345678\n",
      "  (0, 26670)\t0.024691358024691357\n",
      "  (0, 10201)\t0.012345679012345678\n",
      "  (0, 14789)\t0.024691358024691357\n",
      "  (0, 11385)\t0.012345679012345678\n",
      "  :\t:\n",
      "  (4, 1848)\t0.0017123287671232876\n",
      "  (4, 18145)\t0.0017123287671232876\n",
      "  (4, 6644)\t0.0017123287671232876\n",
      "  (4, 24198)\t0.003424657534246575\n",
      "  (4, 2644)\t0.003424657534246575\n",
      "  (4, 29036)\t0.0017123287671232876\n",
      "  (4, 1594)\t0.0017123287671232876\n",
      "  (4, 3710)\t0.003424657534246575\n",
      "  (4, 5518)\t0.0017123287671232876\n",
      "  (4, 20411)\t0.0017123287671232876\n",
      "  (4, 9610)\t0.0017123287671232876\n",
      "  (4, 25862)\t0.0017123287671232876\n",
      "  (4, 13837)\t0.0017123287671232876\n",
      "  (4, 15956)\t0.0017123287671232876\n",
      "  (4, 18045)\t0.0017123287671232876\n",
      "  (4, 21574)\t0.0017123287671232876\n",
      "  (4, 29324)\t0.0017123287671232876\n",
      "  (4, 6641)\t0.0017123287671232876\n",
      "  (4, 23984)\t0.0017123287671232876\n",
      "  (4, 2904)\t0.0017123287671232876\n",
      "  (4, 18162)\t0.0017123287671232876\n",
      "  (4, 9920)\t0.0017123287671232876\n",
      "  (4, 29475)\t0.003424657534246575\n",
      "  (4, 7349)\t0.0017123287671232876\n",
      "  (4, 21894)\t0.0017123287671232876\n"
     ]
    }
   ],
   "source": [
    "print(X_train[:5])"
   ]
  },
  {
   "cell_type": "code",
   "execution_count": null,
   "id": "aede9fd3",
   "metadata": {},
   "outputs": [],
   "source": [
    "lr = LogisticRegressionCV(Cs=10, class_weight='balanced',\n",
    "                          scoring='roc_auc', solver='sag',\n",
    "                          tol=0.001, max_iter=500,\n",
    "                          random_state=0)"
   ]
  },
  {
   "cell_type": "code",
   "execution_count": null,
   "id": "78539c4b",
   "metadata": {},
   "outputs": [],
   "source": [
    "is_malleable = np.array([post[\"delta_label\"] for post in original_posts_train])\n",
    "\n",
    "lr.fit(X_train, is_malleable)"
   ]
  },
  {
   "cell_type": "code",
   "execution_count": null,
   "id": "0a464408",
   "metadata": {},
   "outputs": [],
   "source": [
    "def top_features(coef, words, n=15):\n",
    "    order = np.argsort(-coef)\n",
    "    for i_hi, i_lo in zip(order[:n], order[:-n - 1:-1]):\n",
    "        row_vals = coef[i_hi], words[i_hi], coef[i_lo], words[i_lo]\n",
    "        print(\"[{:>4.1f}] {:<20}[{:>4.1f}] {:<20}\".format(*row_vals))"
   ]
  },
  {
   "cell_type": "code",
   "execution_count": null,
   "id": "7f717fe1",
   "metadata": {},
   "outputs": [],
   "source": [
    "top_features(lr.coef_.flatten(), vect.get_feature_names_out())"
   ]
  },
  {
   "cell_type": "code",
   "execution_count": null,
   "id": "e4d65448",
   "metadata": {},
   "outputs": [],
   "source": []
  }
 ],
 "metadata": {
  "kernelspec": {
   "display_name": "Python 3 (ipykernel)",
   "language": "python",
   "name": "python3"
  },
  "language_info": {
   "codemirror_mode": {
    "name": "ipython",
    "version": 3
   },
   "file_extension": ".py",
   "mimetype": "text/x-python",
   "name": "python",
   "nbconvert_exporter": "python",
   "pygments_lexer": "ipython3",
   "version": "3.9.7"
  }
 },
 "nbformat": 4,
 "nbformat_minor": 5
}
